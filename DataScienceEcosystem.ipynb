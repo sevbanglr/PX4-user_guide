{
 "cells": [
  {
   "cell_type": "markdown",
   "id": "8361f308-d7dd-4898-97aa-2a085838673e",
   "metadata": {},
   "source": [
    "# Data Science Tools and Ecosystem"
   ]
  },
  {
   "cell_type": "markdown",
   "id": "fe96947a-7390-465f-9347-2d456f596aca",
   "metadata": {},
   "source": [
    "In this notebook, Data Science Tools and Ecosystem are summarized."
   ]
  },
  {
   "cell_type": "markdown",
   "id": "ae784f37-2d20-4ec2-b676-58ada37e8bc5",
   "metadata": {},
   "source": [
    "**Objectives:   **"
   ]
  },
  {
   "cell_type": "markdown",
   "id": "5818e2e0-8cbe-4309-bfe9-a13ffc946ac9",
   "metadata": {},
   "source": [
    "*List popular languages for Data Science\n",
    "*List commonly used libraries in Data Science\n",
    "*List commonly used tools in Data Science"
   ]
  },
  {
   "cell_type": "markdown",
   "id": "42c3ed0c-8d0b-4ccc-95ff-797371bdf063",
   "metadata": {},
   "source": [
    "Some of the popular languages that Data Scientists use are:"
   ]
  },
  {
   "cell_type": "markdown",
   "id": "14763aac-4fa4-494a-9bcc-918ff6281de9",
   "metadata": {},
   "source": [
    "1.Python\n",
    "2.R\n",
    "3.Scala"
   ]
  },
  {
   "cell_type": "markdown",
   "id": "31fcf8bb-360b-43a5-9db4-16a2834d9458",
   "metadata": {},
   "source": [
    "Some of the commonly used libraries used by Data Scientists include:"
   ]
  },
  {
   "cell_type": "markdown",
   "id": "eb5fc041-c898-4b92-8461-9a114dd76636",
   "metadata": {},
   "source": [
    "1.Keras\n",
    "2.TensorFlow\n",
    "3.NumPy"
   ]
  },
  {
   "cell_type": "markdown",
   "id": "2c399d3e-7880-4349-b899-8df0d59816d5",
   "metadata": {},
   "source": [
    "|Data Science Tools|\n",
    "|------------------|\n",
    "|Apache Spark      |\n",
    "|Hive              |\n",
    "|Apache Hadoop     |\n"
   ]
  },
  {
   "cell_type": "code",
   "execution_count": null,
   "id": "3bdc9b05-98e1-433c-855a-7f68908aae30",
   "metadata": {},
   "outputs": [],
   "source": [
    "###Below are a few examples of evaluating arithmetic expressions in Python"
   ]
  },
  {
   "cell_type": "markdown",
   "id": "911d5ebc-6713-4822-940e-28a0c2ebea49",
   "metadata": {},
   "source": [
    "This a simple arithmetic expression to mutiply then add integers"
   ]
  },
  {
   "cell_type": "code",
   "execution_count": 1,
   "id": "354bfbcf-e8da-4720-91a9-fc7cbdc4f3ac",
   "metadata": {
    "tags": []
   },
   "outputs": [
    {
     "data": {
      "text/plain": [
       "17"
      ]
     },
     "execution_count": 1,
     "metadata": {},
     "output_type": "execute_result"
    }
   ],
   "source": [
    "(3*4)+5"
   ]
  },
  {
   "cell_type": "markdown",
   "id": "0689c458-3bf8-49c2-a51e-ad7564c1ddca",
   "metadata": {},
   "source": [
    "This will convert 200 minutes to hours by diving by 60"
   ]
  },
  {
   "cell_type": "code",
   "execution_count": 2,
   "id": "cda87a80-dba5-45d3-b9f1-d7194ae0c545",
   "metadata": {
    "tags": []
   },
   "outputs": [
    {
     "name": "stdout",
     "output_type": "stream",
     "text": [
      "120 minutes is equal to 2.0 hours.\n"
     ]
    },
    {
     "data": {
      "text/plain": [
       "3.3333333333333335"
      ]
     },
     "execution_count": 2,
     "metadata": {},
     "output_type": "execute_result"
    }
   ],
   "source": [
    "def convert_minutes_to_hours(minutes):\n",
    "    hours = minutes / 60\n",
    "    return hours\n",
    "convert_minutes_to_hours(200)"
   ]
  },
  {
   "cell_type": "markdown",
   "id": "19095b17-c898-465f-a584-f1891883fd1e",
   "metadata": {},
   "source": [
    "Author\n",
    "## Ahmet Sevban Güler"
   ]
  }
 ],
 "metadata": {
  "kernelspec": {
   "display_name": "Python",
   "language": "python",
   "name": "conda-env-python-py"
  },
  "language_info": {
   "codemirror_mode": {
    "name": "ipython",
    "version": 3
   },
   "file_extension": ".py",
   "mimetype": "text/x-python",
   "name": "python",
   "nbconvert_exporter": "python",
   "pygments_lexer": "ipython3",
   "version": "3.7.12"
  }
 },
 "nbformat": 4,
 "nbformat_minor": 5
}
